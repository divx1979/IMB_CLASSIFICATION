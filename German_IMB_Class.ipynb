{
  "nbformat": 4,
  "nbformat_minor": 0,
  "metadata": {
    "colab": {
      "provenance": [],
      "authorship_tag": "ABX9TyNOZ3VGt7HKLhD03ezkLTaA",
      "include_colab_link": true
    },
    "kernelspec": {
      "name": "python3",
      "display_name": "Python 3"
    },
    "language_info": {
      "name": "python"
    }
  },
  "cells": [
    {
      "cell_type": "markdown",
      "metadata": {
        "id": "view-in-github",
        "colab_type": "text"
      },
      "source": [
        "<a href=\"https://colab.research.google.com/github/divx1979/IMB_CLASSIFICATION/blob/main/German_IMB_Class.ipynb\" target=\"_parent\"><img src=\"https://colab.research.google.com/assets/colab-badge.svg\" alt=\"Open In Colab\"/></a>"
      ]
    },
    {
      "cell_type": "markdown",
      "source": [
        "# About the data\n",
        "The German Credit dataset presents a challenge due to its class imbalance. Since applicants with bad credit represent a minority, misclassifying them as good credit (false negatives) can have significant consequences. Therefore, evaluating model performance should prioritize metrics that capture this cost asymmetry. Techniques like oversampling or undersampling the majority class, or using metrics like F1-score with a higher beta for the minority class, are crucial to ensure the model effectively identifies bad credit risks"
      ],
      "metadata": {
        "id": "1K1jKNLiOjAT"
      }
    },
    {
      "cell_type": "code",
      "execution_count": 29,
      "metadata": {
        "id": "ZXUNdqfHIM1q"
      },
      "outputs": [],
      "source": [
        "import numpy as np\n",
        "import pandas as pd\n",
        "import matplotlib.pyplot as plt\n",
        "from collections import Counter\n",
        "from sklearn.preprocessing import OneHotEncoder\n",
        "from sklearn.preprocessing import LabelEncoder\n",
        "from sklearn.compose import ColumnTransformer\n",
        "from sklearn.model_selection import cross_val_score\n",
        "from sklearn.model_selection import RepeatedStratifiedKFold\n",
        "from sklearn.metrics import fbeta_score\n",
        "from sklearn.metrics import make_scorer\n",
        "from sklearn.dummy import DummyClassifier"
      ]
    },
    {
      "cell_type": "code",
      "source": [
        "##hist"
      ],
      "metadata": {
        "id": "26ZOIRex4BPX"
      },
      "execution_count": 42,
      "outputs": []
    },
    {
      "cell_type": "code",
      "source": [
        "# ax = subs1.hist()\n",
        "\n",
        "# for axis in ax.flatten():\n",
        "#   axis.set_xticklabels([])\n",
        "#   axis.set_yticklabels([])\n",
        "# plt.show()"
      ],
      "metadata": {
        "id": "0Db7GoAX5G8J"
      },
      "execution_count": 43,
      "outputs": []
    },
    {
      "cell_type": "code",
      "source": [
        "##step 1. EDA"
      ],
      "metadata": {
        "id": "1biHa7IOqcz2"
      },
      "execution_count": 53,
      "outputs": []
    },
    {
      "cell_type": "code",
      "source": [
        "import seaborn as sns\n",
        "\n",
        "da11 = pd.read_csv('/content/modified_GermanCredit.csv')\n",
        "\n",
        "print(da11.describe())\n",
        "\n",
        "print(da11.info())\n",
        "\n",
        "numerical_cols = ['duration', 'amount', 'installment_rate', 'present_residence', 'age',\n",
        "                  'number_credits', 'people_liable']\n",
        "categorical_cols = [col for col in da11.columns if col not in numerical_cols]\n",
        "\n",
        "# Convert numerical columns to int (if they are not already)\n",
        "for col in numerical_cols:\n",
        "    da11[col] = pd.to_numeric(da11[col], errors='coerce')  # Convert columns to numeric, coerce errors\n",
        "\n",
        "# Convert categorical columns to category type (if they are not already)\n",
        "for col in categorical_cols:\n",
        "    da11[col] = da11[col].astype('category')\n",
        "\n",
        "# Check the changes\n",
        "print(da11.dtypes)\n",
        "\n",
        "da11[numerical_cols].hist(bins = 15, figsize = (15, 6), layout = (2, 4))\n",
        "\n",
        "plt.show()\n",
        "\n",
        "sns.countplot(x = 'credit_risk', data = da11)\n",
        "\n",
        "plt.title('Credit Dist')\n",
        "\n",
        "plt.show()\n"
      ],
      "metadata": {
        "colab": {
          "base_uri": "https://localhost:8080/",
          "height": 1000
        },
        "id": "YwcAEorXpv0I",
        "outputId": "1bf7cb56-47d4-441d-9690-83e44975f445"
      },
      "execution_count": 86,
      "outputs": [
        {
          "output_type": "stream",
          "name": "stdout",
          "text": [
            "          duration        amount  installment_rate  present_residence  \\\n",
            "count  1000.000000   1000.000000       1000.000000        1000.000000   \n",
            "mean     20.903000   3271.258000          2.973000           2.845000   \n",
            "std      12.058814   2822.736876          1.118715           1.103718   \n",
            "min       4.000000    250.000000          1.000000           1.000000   \n",
            "25%      12.000000   1365.500000          2.000000           2.000000   \n",
            "50%      18.000000   2319.500000          3.000000           3.000000   \n",
            "75%      24.000000   3972.250000          4.000000           4.000000   \n",
            "max      72.000000  18424.000000          4.000000           4.000000   \n",
            "\n",
            "               age  number_credits  people_liable  credit_risk  \n",
            "count  1000.000000     1000.000000    1000.000000  1000.000000  \n",
            "mean     35.546000        1.407000       1.155000     0.700000  \n",
            "std      11.375469        0.577654       0.362086     0.458487  \n",
            "min      19.000000        1.000000       1.000000     0.000000  \n",
            "25%      27.000000        1.000000       1.000000     0.000000  \n",
            "50%      33.000000        1.000000       1.000000     1.000000  \n",
            "75%      42.000000        2.000000       1.000000     1.000000  \n",
            "max      75.000000        4.000000       2.000000     1.000000  \n",
            "<class 'pandas.core.frame.DataFrame'>\n",
            "RangeIndex: 1000 entries, 0 to 999\n",
            "Data columns (total 21 columns):\n",
            " #   Column                   Non-Null Count  Dtype \n",
            "---  ------                   --------------  ----- \n",
            " 0   status                   1000 non-null   object\n",
            " 1   duration                 1000 non-null   int64 \n",
            " 2   credit_history           1000 non-null   object\n",
            " 3   purpose                  1000 non-null   object\n",
            " 4   amount                   1000 non-null   int64 \n",
            " 5   savings                  1000 non-null   object\n",
            " 6   employment_duration      1000 non-null   object\n",
            " 7   installment_rate         1000 non-null   int64 \n",
            " 8   personal_status_sex      1000 non-null   object\n",
            " 9   other_debtors            1000 non-null   object\n",
            " 10  present_residence        1000 non-null   int64 \n",
            " 11  property                 1000 non-null   object\n",
            " 12  age                      1000 non-null   int64 \n",
            " 13  other_installment_plans  1000 non-null   object\n",
            " 14  housing                  1000 non-null   object\n",
            " 15  number_credits           1000 non-null   int64 \n",
            " 16  job                      1000 non-null   object\n",
            " 17  people_liable            1000 non-null   int64 \n",
            " 18  telephone                1000 non-null   object\n",
            " 19  foreign_worker           1000 non-null   object\n",
            " 20  credit_risk              1000 non-null   int64 \n",
            "dtypes: int64(8), object(13)\n",
            "memory usage: 164.2+ KB\n",
            "None\n",
            "status                     category\n",
            "duration                      int64\n",
            "credit_history             category\n",
            "purpose                    category\n",
            "amount                        int64\n",
            "savings                    category\n",
            "employment_duration        category\n",
            "installment_rate              int64\n",
            "personal_status_sex        category\n",
            "other_debtors              category\n",
            "present_residence             int64\n",
            "property                   category\n",
            "age                           int64\n",
            "other_installment_plans    category\n",
            "housing                    category\n",
            "number_credits                int64\n",
            "job                        category\n",
            "people_liable                 int64\n",
            "telephone                  category\n",
            "foreign_worker             category\n",
            "credit_risk                category\n",
            "dtype: object\n"
          ]
        },
        {
          "output_type": "display_data",
          "data": {
            "text/plain": [
              "<Figure size 1500x600 with 8 Axes>"
            ],
            "image/png": "[encoded data removed]"
          },
          "metadata": {}
        },
        {
          "output_type": "display_data",
          "data": {
            "text/plain": [
              "<Figure size 640x480 with 1 Axes>"
            ],
            "image/png": "[encoded data removed]"
          },
          "metadata": {}
        }
      ]
    },
    {
      "cell_type": "code",
      "source": [
        "data = da11"
      ],
      "metadata": {
        "id": "LqohsGUp7Qtq"
      },
      "execution_count": 87,
      "outputs": []
    },
    {
      "cell_type": "code",
      "source": [
        "##Step 2. Model Test Harness\n",
        "##Use RepeatedStratifiedKFold With F2 Measure As Data IMB"
      ],
      "metadata": {
        "id": "8pj2_W81qa-y"
      },
      "execution_count": 88,
      "outputs": []
    },
    {
      "cell_type": "code",
      "source": [
        "X = da11.drop('credit_risk', axis = 1)\n",
        "y = da11['credit_risk']"
      ],
      "metadata": {
        "id": "25qxZjjnvVyC"
      },
      "execution_count": 89,
      "outputs": []
    },
    {
      "cell_type": "code",
      "source": [
        "from sklearn.model_selection import RepeatedStratifiedKFold\n",
        "from sklearn.metrics import fbeta_score, make_scorer\n",
        "\n",
        "##define F2 Score\n",
        "\n",
        "def f2_sc(y_true, y_pred):\n",
        "  return fbeta_score(y_true, y_pred, beta = 2)\n",
        "\n",
        "f2 = make_scorer(f2_sc)\n",
        "\n",
        "##model\n",
        "\n",
        "def eval_model(model, X, y):\n",
        "  cv = RepeatedStratifiedKFold(n_splits = 10, n_repeats = 3, random_state = 1)\n",
        "  sc1 = cross_val_score(model, X, y, cv = cv, scoring = f2, n_jobs = -1)\n",
        "  return sc1"
      ],
      "metadata": {
        "id": "IkP8WnmIszE8"
      },
      "execution_count": 90,
      "outputs": []
    },
    {
      "cell_type": "code",
      "source": [
        "##Step 4. Evaluate Different Models"
      ],
      "metadata": {
        "id": "OhlbPk4As5To"
      },
      "execution_count": 91,
      "outputs": []
    },
    {
      "cell_type": "code",
      "source": [
        "da11.columns"
      ],
      "metadata": {
        "colab": {
          "base_uri": "https://localhost:8080/"
        },
        "id": "W4wq2UTDy_0w",
        "outputId": "cd5bda12-a6ef-4b71-9b6a-e465815adead"
      },
      "execution_count": 92,
      "outputs": [
        {
          "output_type": "execute_result",
          "data": {
            "text/plain": [
              "Index(['status', 'duration', 'credit_history', 'purpose', 'amount', 'savings',\n",
              "       'employment_duration', 'installment_rate', 'personal_status_sex',\n",
              "       'other_debtors', 'present_residence', 'property', 'age',\n",
              "       'other_installment_plans', 'housing', 'number_credits', 'job',\n",
              "       'people_liable', 'telephone', 'foreign_worker', 'credit_risk'],\n",
              "      dtype='object')"
            ]
          },
          "metadata": {},
          "execution_count": 92
        }
      ]
    },
    {
      "cell_type": "code",
      "source": [
        "from sklearn.model_selection import train_test_split, RepeatedStratifiedKFold, cross_val_score\n",
        "from sklearn.compose import ColumnTransformer\n",
        "from sklearn.pipeline import Pipeline\n",
        "from sklearn.preprocessing import OneHotEncoder\n",
        "from sklearn.linear_model import LogisticRegression\n",
        "from sklearn.metrics import classification_report\n",
        "\n",
        "# Assuming the correct name is 'Credit Risk'\n",
        "X = data.drop('credit_risk', axis=1)  # features\n",
        "y = data['credit_risk']  # target\n",
        "\n",
        "# Identify categorical features for transformation\n",
        "categorical_features = [col for col in X.columns if X[col].dtype == 'object']\n",
        "numerical_features = [col for col in X.columns if X[col].dtype in ['int64', 'float64']]\n",
        "\n",
        "# Create a ColumnTransformer to apply transformations\n",
        "preprocessor = ColumnTransformer(\n",
        "    transformers=[\n",
        "        ('num', 'passthrough', numerical_features),\n",
        "        ('cat', OneHotEncoder(), categorical_features)\n",
        "    ])\n",
        "\n",
        "# Create a pipeline with preprocessing and a classifier\n",
        "pipeline = Pipeline([\n",
        "    ('preprocessor', preprocessor),\n",
        "    ('classifier', LogisticRegression(solver='liblinear'))\n",
        "])\n",
        "\n",
        "# Setup cross-validation\n",
        "cv = RepeatedStratifiedKFold(n_splits=10, n_repeats=3, random_state=42)\n",
        "scores = cross_val_score(pipeline, X, y, scoring=f2, cv=cv, n_jobs=-1)  # ensure 'f2' scorer is defined or use a built-in\n",
        "\n",
        "print(\"Mean F2 Score:\", np.mean(scores))\n",
        "print(\"Standard Deviation of F2 Scores:\", np.std(scores))\n"
      ],
      "metadata": {
        "colab": {
          "base_uri": "https://localhost:8080/"
        },
        "id": "MSbMhq9Oz-BN",
        "outputId": "40a90f6b-be39-48cb-fa28-b7b0a5e23bfc"
      },
      "execution_count": 93,
      "outputs": [
        {
          "output_type": "stream",
          "name": "stdout",
          "text": [
            "Mean F2 Score: 0.8991391605515148\n",
            "Standard Deviation of F2 Scores: 0.023920166994204087\n"
          ]
        }
      ]
    },
    {
      "cell_type": "code",
      "source": [
        "data.columns"
      ],
      "metadata": {
        "colab": {
          "base_uri": "https://localhost:8080/"
        },
        "id": "Tp8E7M7Y9nrQ",
        "outputId": "865231dd-3c53-41dd-ee97-2f8c4cb8cee9"
      },
      "execution_count": 94,
      "outputs": [
        {
          "output_type": "execute_result",
          "data": {
            "text/plain": [
              "Index(['status', 'duration', 'credit_history', 'purpose', 'amount', 'savings',\n",
              "       'employment_duration', 'installment_rate', 'personal_status_sex',\n",
              "       'other_debtors', 'present_residence', 'property', 'age',\n",
              "       'other_installment_plans', 'housing', 'number_credits', 'job',\n",
              "       'people_liable', 'telephone', 'foreign_worker', 'credit_risk'],\n",
              "      dtype='object')"
            ]
          },
          "metadata": {},
          "execution_count": 94
        }
      ]
    },
    {
      "cell_type": "code",
      "source": [
        "##Step 3. Eval Mod"
      ],
      "metadata": {
        "id": "Z15yZW_pFNx_"
      },
      "execution_count": 99,
      "outputs": []
    },
    {
      "cell_type": "code",
      "source": [
        "from sklearn.compose import ColumnTransformer\n",
        "from sklearn.pipeline import Pipeline\n",
        "from sklearn.preprocessing import OneHotEncoder, StandardScaler\n",
        "from sklearn.ensemble import RandomForestClassifier\n",
        "from sklearn.model_selection import train_test_split\n",
        "\n",
        "# Load your data\n",
        "data = pd.read_csv('/content/modified_GermanCredit.csv')\n",
        "\n",
        "# Split the data into features and target\n",
        "X = data.drop('credit_risk', axis=1)\n",
        "y = data['credit_risk']\n",
        "\n",
        "# Identify categorical and numerical columns\n",
        "categorical_cols = X.select_dtypes(include=['object', 'category']).columns\n",
        "numerical_cols = X.select_dtypes(exclude=['object', 'category']).columns\n",
        "\n",
        "# Create the preprocessing components\n",
        "preprocessor = ColumnTransformer(\n",
        "    transformers=[\n",
        "        ('num', StandardScaler(), numerical_cols),\n",
        "        ('cat', OneHotEncoder(), categorical_cols)\n",
        "    ])\n",
        "\n",
        "# Create a modeling pipeline\n",
        "pipeline = Pipeline(steps=[\n",
        "    ('preprocessor', preprocessor),\n",
        "    ('classifier', RandomForestClassifier())\n",
        "])\n",
        "\n",
        "# Split the dataset into training and testing sets\n",
        "X_train, X_test, y_train, y_test = train_test_split(X, y, test_size=0.2, random_state=42)\n",
        "\n",
        "# Fit the pipeline\n",
        "pipeline.fit(X_train, y_train)\n",
        "\n",
        "# Predict using the pipeline\n",
        "y_pred = pipeline.predict(X_test)\n"
      ],
      "metadata": {
        "id": "cnb-n-Vc9Bwq"
      },
      "execution_count": 96,
      "outputs": []
    },
    {
      "cell_type": "code",
      "source": [
        "# Correcting the calculation of F2 score\n",
        "f2_score_test = fbeta_score(y_test, y_pred, beta=2)  # directly using fbeta_score function\n",
        "\n",
        "# Generate a classification report\n",
        "classification_report_output = classification_report(y_test, y_pred, target_names=[\"Bad Risk\", \"Good Risk\"])\n",
        "\n",
        "f2_score_test, classification_report_output\n"
      ],
      "metadata": {
        "colab": {
          "base_uri": "https://localhost:8080/"
        },
        "id": "3XeVKz0q4ZNv",
        "outputId": "ff1a2208-4a2f-4269-e840-7786ee95524a"
      },
      "execution_count": 97,
      "outputs": [
        {
          "output_type": "execute_result",
          "data": {
            "text/plain": [
              "(0.8859890109890108,\n",
              " '              precision    recall  f1-score   support\\n\\n    Bad Risk       0.67      0.41      0.51        59\\n   Good Risk       0.79      0.91      0.85       141\\n\\n    accuracy                           0.77       200\\n   macro avg       0.73      0.66      0.68       200\\nweighted avg       0.75      0.77      0.75       200\\n')"
            ]
          },
          "metadata": {},
          "execution_count": 97
        }
      ]
    },
    {
      "cell_type": "code",
      "source": [
        "##Step 4. UnderSampling And Test On New Data"
      ],
      "metadata": {
        "id": "092zIeqL1Kkx"
      },
      "execution_count": 101,
      "outputs": []
    },
    {
      "cell_type": "code",
      "source": [
        "import pandas as pd\n",
        "from sklearn.model_selection import RepeatedStratifiedKFold, cross_val_score\n",
        "from sklearn.preprocessing import StandardScaler, OneHotEncoder\n",
        "from sklearn.compose import ColumnTransformer\n",
        "from sklearn.pipeline import Pipeline\n",
        "from sklearn.ensemble import RandomForestClassifier\n",
        "from sklearn.metrics import make_scorer\n",
        "from imblearn.under_sampling import RandomUnderSampler\n",
        "from imblearn.pipeline import Pipeline as ImbPipeline\n",
        "\n",
        "# Load the dataset\n",
        "data = pd.read_csv('/content/modified_GermanCredit.csv')\n",
        "\n",
        "# Split data into features and target variable\n",
        "X = data.drop('credit_risk', axis=1)\n",
        "y = data['credit_risk']\n",
        "\n",
        "# Identify categorical and numerical columns\n",
        "categorical_cols = X.select_dtypes(include=['object']).columns\n",
        "numerical_cols = X.select_dtypes(exclude=['object']).columns\n",
        "\n",
        "# Create a column transformer with OneHotEncoder for categorical variables and StandardScaler for numerical variables\n",
        "preprocessor = ColumnTransformer(\n",
        "    transformers=[\n",
        "        ('num', StandardScaler(), numerical_cols),\n",
        "        ('cat', OneHotEncoder(), categorical_cols)\n",
        "    ])\n",
        "\n",
        "# Define the undersampler\n",
        "undersampler = RandomUnderSampler(random_state=42)\n",
        "\n",
        "# Create a pipeline that includes preprocessing, undersampling and a classifier\n",
        "model = ImbPipeline(steps=[\n",
        "    ('preprocessor', preprocessor),\n",
        "    ('undersampler', undersampler),\n",
        "    ('classifier', RandomForestClassifier(random_state=42))\n",
        "])\n",
        "\n",
        "# Define Repeated Stratified K-Fold cross-validation\n",
        "cv = RepeatedStratifiedKFold(n_splits=10, n_repeats=3, random_state=42)\n",
        "\n",
        "# Define the F2 score as the metric\n",
        "f2_scorer = make_scorer(fbeta_score, beta=2)\n",
        "\n",
        "# Evaluate the model using cross-validation\n",
        "f2_scores = cross_val_score(model, X, y, scoring=f2_scorer, cv=cv)\n",
        "\n",
        "# Print the F2 scores\n",
        "print(\"F2 Scores per fold:\", f2_scores)\n",
        "print(\"Mean F2 Score:\", np.mean(f2_scores))\n",
        "print(\"Standard Deviation of F2 Scores:\", np.std(f2_scores))\n"
      ],
      "metadata": {
        "colab": {
          "base_uri": "https://localhost:8080/"
        },
        "id": "irnB128gBHTt",
        "outputId": "1cc3625f-c3e0-4495-e09b-84cc273a1bc6"
      },
      "execution_count": 102,
      "outputs": [
        {
          "output_type": "stream",
          "name": "stdout",
          "text": [
            "F2 Scores per fold: [0.68452381 0.71005917 0.64954683 0.67567568 0.75443787 0.68249258\n",
            " 0.68656716 0.75667656 0.69277108 0.71641791 0.67164179 0.75221239\n",
            " 0.66666667 0.62883436 0.75443787 0.72271386 0.7748538  0.69277108\n",
            " 0.68452381 0.6626506  0.72271386 0.73313783 0.63063063 0.62883436\n",
            " 0.84527221 0.625      0.68807339 0.7771261  0.72700297 0.73529412]\n",
            "Mean F2 Score: 0.7044520117841253\n",
            "Standard Deviation of F2 Scores: 0.05053981784497062\n"
          ]
        }
      ]
    },
    {
      "cell_type": "code",
      "source": [],
      "metadata": {
        "id": "mehgZk8PBfJD"
      },
      "execution_count": null,
      "outputs": []
    }
  ]
}