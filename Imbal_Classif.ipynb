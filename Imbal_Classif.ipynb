{
  "nbformat": 4,
  "nbformat_minor": 0,
  "metadata": {
    "colab": {
      "provenance": [],
      "authorship_tag": "ABX9TyPPLg1t4zcOiURugPdKs/HF",
      "include_colab_link": true
    },
    "kernelspec": {
      "name": "python3",
      "display_name": "Python 3"
    },
    "language_info": {
      "name": "python"
    }
  },
  "cells": [
    {
      "cell_type": "markdown",
      "metadata": {
        "id": "view-in-github",
        "colab_type": "text"
      },
      "source": [
        "<a href=\"https://colab.research.google.com/github/divx1979/IMB_CLASSIFICATION/blob/main/Imbal_Classif.ipynb\" target=\"_parent\"><img src=\"https://colab.research.google.com/assets/colab-badge.svg\" alt=\"Open In Colab\"/></a>"
      ]
    },
    {
      "cell_type": "code",
      "execution_count": 1,
      "metadata": {
        "id": "rrSWv-w4G6zd"
      },
      "outputs": [],
      "source": [
        "## Random Oversampling"
      ]
    },
    {
      "cell_type": "code",
      "source": [
        "from collections import Counter\n",
        "import numpy as np\n",
        "import pandas as pd\n",
        "import matplotlib.pyplot as plt\n",
        "from sklearn.datasets import make_classification\n",
        "from imblearn.over_sampling import RandomOverSampler\n",
        "from sklearn.model_selection import cross_val_score\n",
        "from sklearn.model_selection import RepeatedStratifiedKFold\n",
        "from imblearn.pipeline import Pipeline\n",
        "from sklearn.tree import DecisionTreeClassifier"
      ],
      "metadata": {
        "id": "bb2NhYdSHELp"
      },
      "execution_count": 2,
      "outputs": []
    },
    {
      "cell_type": "code",
      "source": [
        "X, y = make_classification(n_samples= 10000, weights= [.99], flip_y= 0)"
      ],
      "metadata": {
        "id": "kS3fhBdQHYa-"
      },
      "execution_count": 3,
      "outputs": []
    },
    {
      "cell_type": "code",
      "source": [
        "print(Counter(y))"
      ],
      "metadata": {
        "colab": {
          "base_uri": "https://localhost:8080/"
        },
        "id": "ZOPpe8BUHz1B",
        "outputId": "52c3016f-1f90-4d5c-8296-cb12d95a5469"
      },
      "execution_count": 4,
      "outputs": [
        {
          "output_type": "stream",
          "name": "stdout",
          "text": [
            "Counter({0: 9900, 1: 100})\n"
          ]
        }
      ]
    },
    {
      "cell_type": "code",
      "source": [
        "os = RandomOverSampler(sampling_strategy= 'minority')"
      ],
      "metadata": {
        "id": "CDS4wdVJH5DA"
      },
      "execution_count": 5,
      "outputs": []
    },
    {
      "cell_type": "code",
      "source": [
        "X_o, y_o = os.fit_resample(X, y)"
      ],
      "metadata": {
        "id": "QokvT9csIFKP"
      },
      "execution_count": 6,
      "outputs": []
    },
    {
      "cell_type": "code",
      "source": [
        "print(Counter(y_o))"
      ],
      "metadata": {
        "colab": {
          "base_uri": "https://localhost:8080/"
        },
        "id": "RoYw7brBIM2r",
        "outputId": "2cf86bd1-42dc-4a12-b9cf-ef510e445b5f"
      },
      "execution_count": 7,
      "outputs": [
        {
          "output_type": "stream",
          "name": "stdout",
          "text": [
            "Counter({0: 9900, 1: 9900})\n"
          ]
        }
      ]
    },
    {
      "cell_type": "code",
      "source": [
        "#define step"
      ],
      "metadata": {
        "id": "YymGhfmfpDJA"
      },
      "execution_count": 8,
      "outputs": []
    },
    {
      "cell_type": "code",
      "source": [
        "steps = [('over', RandomOverSampler()), ('model', DecisionTreeClassifier())]\n",
        "pipeL = Pipeline(steps= steps)"
      ],
      "metadata": {
        "id": "kh972_YbpIOe"
      },
      "execution_count": 9,
      "outputs": []
    },
    {
      "cell_type": "code",
      "source": [
        "## Eval mod"
      ],
      "metadata": {
        "id": "3wViQy83pdbQ"
      },
      "execution_count": 10,
      "outputs": []
    },
    {
      "cell_type": "code",
      "source": [
        "cv1 = RepeatedStratifiedKFold(n_splits= 10, n_repeats= 3, random_state = 1)\n",
        "score1 = cross_val_score(pipeL, X, y, scoring= 'f1_micro', cv = cv1, n_jobs= -1)\n",
        "sc1 = np.mean(score1)"
      ],
      "metadata": {
        "id": "UEPu0GO8qwzW"
      },
      "execution_count": 11,
      "outputs": []
    },
    {
      "cell_type": "code",
      "source": [
        "print(sc1)"
      ],
      "metadata": {
        "colab": {
          "base_uri": "https://localhost:8080/"
        },
        "id": "L2aQVk9frjSw",
        "outputId": "d2aaea49-f3f1-4ac8-ce27-ca7b8a93d5c3"
      },
      "execution_count": 12,
      "outputs": [
        {
          "output_type": "stream",
          "name": "stdout",
          "text": [
            "0.9851\n"
          ]
        }
      ]
    },
    {
      "cell_type": "markdown",
      "source": [
        "# UnderSample"
      ],
      "metadata": {
        "id": "qau7AHq6zFsw"
      }
    },
    {
      "cell_type": "code",
      "source": [
        "## Random Undersample"
      ],
      "metadata": {
        "id": "T52p60x0sY_v"
      },
      "execution_count": 13,
      "outputs": []
    },
    {
      "cell_type": "code",
      "source": [
        "from collections import Counter\n",
        "import numpy as np\n",
        "import pandas as pd\n",
        "import matplotlib.pyplot as plt\n",
        "from sklearn.datasets import make_classification\n",
        "from imblearn.under_sampling import RandomUnderSampler\n",
        "from sklearn.model_selection import cross_val_score\n",
        "from sklearn.model_selection import RepeatedStratifiedKFold\n",
        "from imblearn.pipeline import Pipeline\n",
        "from sklearn.tree import DecisionTreeClassifier"
      ],
      "metadata": {
        "id": "y6dMA9mazg75"
      },
      "execution_count": 14,
      "outputs": []
    },
    {
      "cell_type": "code",
      "source": [
        "X, y = make_classification(n_samples= 10000, weights= [0.99], flip_y= 0)"
      ],
      "metadata": {
        "id": "NTPlSlwOzonP"
      },
      "execution_count": 15,
      "outputs": []
    },
    {
      "cell_type": "code",
      "source": [
        "counter = Counter(y)\n",
        "print(counter)"
      ],
      "metadata": {
        "colab": {
          "base_uri": "https://localhost:8080/"
        },
        "id": "kf4Z-Dtoz3Mr",
        "outputId": "f5609e4d-5037-41bc-826f-9f1ac1631d93"
      },
      "execution_count": 16,
      "outputs": [
        {
          "output_type": "stream",
          "name": "stdout",
          "text": [
            "Counter({0: 9900, 1: 100})\n"
          ]
        }
      ]
    },
    {
      "cell_type": "code",
      "source": [
        "us1 = RandomUnderSampler(sampling_strategy = 'majority') #the sampling_strategy can also be set to 0.5 for 200 majority sample"
      ],
      "metadata": {
        "id": "LQ-xzmDFz-8b"
      },
      "execution_count": 17,
      "outputs": []
    },
    {
      "cell_type": "code",
      "source": [
        "X_o, y_o = us1.fit_resample(X, y)"
      ],
      "metadata": {
        "id": "_4QOndHx0WLp"
      },
      "execution_count": 18,
      "outputs": []
    },
    {
      "cell_type": "code",
      "source": [
        "print(Counter(y_o))"
      ],
      "metadata": {
        "colab": {
          "base_uri": "https://localhost:8080/"
        },
        "id": "YW4qMB8b0eeB",
        "outputId": "acd2e1bc-4eb2-4442-f54b-500111044947"
      },
      "execution_count": 19,
      "outputs": [
        {
          "output_type": "stream",
          "name": "stdout",
          "text": [
            "Counter({0: 100, 1: 100})\n"
          ]
        }
      ]
    },
    {
      "cell_type": "code",
      "source": [
        "#def step"
      ],
      "metadata": {
        "id": "S1jgUcLw0kx2"
      },
      "execution_count": 20,
      "outputs": []
    },
    {
      "cell_type": "code",
      "source": [
        "step1 = [('under', RandomUnderSampler()), ('model', DecisionTreeClassifier())]\n",
        "pipe1 = Pipeline(steps= step1)"
      ],
      "metadata": {
        "id": "SYJ9YNDL1-1I"
      },
      "execution_count": 21,
      "outputs": []
    },
    {
      "cell_type": "code",
      "source": [
        "#def model and cross-val-score"
      ],
      "metadata": {
        "id": "c4TPq2OD2YXw"
      },
      "execution_count": 22,
      "outputs": []
    },
    {
      "cell_type": "code",
      "source": [
        "cv = RepeatedStratifiedKFold(n_splits= 10, n_repeats= 3, random_state = 1)\n",
        "score1 = cross_val_score(pipe1, X, y, scoring = 'f1_micro', cv = cv, n_jobs= -1)"
      ],
      "metadata": {
        "id": "yjjWJ-1I2c05"
      },
      "execution_count": 23,
      "outputs": []
    },
    {
      "cell_type": "code",
      "source": [
        "score1 = np.mean(score1)\n",
        "print(score1)"
      ],
      "metadata": {
        "colab": {
          "base_uri": "https://localhost:8080/"
        },
        "id": "_H8ap1kC3CUk",
        "outputId": "bb7067c0-e2d0-4378-d9bf-643f4171d783"
      },
      "execution_count": 24,
      "outputs": [
        {
          "output_type": "stream",
          "name": "stdout",
          "text": [
            "0.8937333333333333\n"
          ]
        }
      ]
    },
    {
      "cell_type": "markdown",
      "source": [
        "# **OVERSAMPLE**"
      ],
      "metadata": {
        "id": "cJHg_Ir0Bl0L"
      }
    },
    {
      "cell_type": "code",
      "source": [
        "# How To Create A SMOTE Dataset Using Python\n",
        "from collections import Counter\n",
        "from sklearn.datasets import make_classification\n",
        "from imblearn.over_sampling import SMOTE\n",
        "import matplotlib.pyplot as plt"
      ],
      "metadata": {
        "id": "AOoGsCSi3LkJ"
      },
      "execution_count": 25,
      "outputs": []
    },
    {
      "cell_type": "code",
      "source": [
        "## Create data\n",
        "X, y = make_classification(n_samples = 100, n_features = 2, n_informative= 2, n_redundant= 0, n_clusters_per_class= 1, weights= [0.9], random_state= 10)"
      ],
      "metadata": {
        "id": "er73vvbMB_KN"
      },
      "execution_count": 26,
      "outputs": []
    },
    {
      "cell_type": "code",
      "source": [
        "##counter\n",
        "counter = Counter(y)\n",
        "print(counter)"
      ],
      "metadata": {
        "colab": {
          "base_uri": "https://localhost:8080/"
        },
        "id": "ZynNXazNClZE",
        "outputId": "461982e8-7297-4443-e6d1-db164f4cf5aa"
      },
      "execution_count": 27,
      "outputs": [
        {
          "output_type": "stream",
          "name": "stdout",
          "text": [
            "Counter({0: 91, 1: 9})\n"
          ]
        }
      ]
    },
    {
      "cell_type": "code",
      "source": [
        "##SMOTE\n",
        "os1 = SMOTE()\n",
        "X, y = os1.fit_resample(X, y)"
      ],
      "metadata": {
        "id": "BCdj_EWDCxrl"
      },
      "execution_count": 28,
      "outputs": []
    },
    {
      "cell_type": "code",
      "source": [
        "#count\n",
        "counter1 = Counter(y)\n",
        "print(counter1)"
      ],
      "metadata": {
        "colab": {
          "base_uri": "https://localhost:8080/"
        },
        "id": "IQs65PhhDCEE",
        "outputId": "bc4fc1ec-08ee-4c92-ca03-c7f6cf21bd37"
      },
      "execution_count": 29,
      "outputs": [
        {
          "output_type": "stream",
          "name": "stdout",
          "text": [
            "Counter({0: 91, 1: 91})\n"
          ]
        }
      ]
    },
    {
      "cell_type": "code",
      "source": [
        "#viz\n",
        "for label, _ in counter.items():\n",
        "  row_ix = np.where(y == label)[0]\n",
        "  plt.scatter(X[row_ix, 0], X[row_ix, 1], label = str(label))\n",
        "plt.legend()\n",
        "plt.show()"
      ],
      "metadata": {
        "colab": {
          "base_uri": "https://localhost:8080/",
          "height": 434
        },
        "id": "aE7Qn-aZDSe8",
        "outputId": "7f9a7144-4856-4a05-dba2-7f3446f3cc24"
      },
      "execution_count": 30,
      "outputs": [
        {
          "output_type": "display_data",
          "data": {
            "text/plain": [
              "<Figure size 640x480 with 1 Axes>"
            ],
            "image/png": "[encoded data removed]"
          },
          "metadata": {}
        }
      ]
    },
    {
      "cell_type": "code",
      "source": [],
      "metadata": {
        "id": "LeiQqhC-D4aq"
      },
      "execution_count": null,
      "outputs": []
    }
  ]
}