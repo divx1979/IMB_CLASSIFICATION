{
  "nbformat": 4,
  "nbformat_minor": 0,
  "metadata": {
    "colab": {
      "provenance": [],
      "authorship_tag": "ABX9TyNm1ait3nsvwXf7qmEDEqVi",
      "include_colab_link": true
    },
    "kernelspec": {
      "name": "python3",
      "display_name": "Python 3"
    },
    "language_info": {
      "name": "python"
    }
  },
  "cells": [
    {
      "cell_type": "markdown",
      "metadata": {
        "id": "view-in-github",
        "colab_type": "text"
      },
      "source": [
        "<a href=\"https://colab.research.google.com/github/divx1979/IMB_CLASSIFICATION/blob/main/haberman_survival_imbal_class.ipynb\" target=\"_parent\"><img src=\"https://colab.research.google.com/assets/colab-badge.svg\" alt=\"Open In Colab\"/></a>"
      ]
    },
    {
      "cell_type": "code",
      "source": [
        "import numpy as np\n",
        "import pandas as pd\n",
        "import matplotlib.pyplot as plt\n",
        "from collections import Counter\n",
        "from sklearn.preprocessing import LabelEncoder\n",
        "from sklearn.preprocessing import StandardScaler\n",
        "from sklearn.linear_model import LogisticRegression\n",
        "from sklearn.metrics import brier_score_loss\n",
        "from sklearn.model_selection import RepeatedStratifiedKFold, cross_val_predict\n",
        "from sklearn.pipeline import make_pipeline\n",
        "from sklearn.model_selection import cross_val_score\n",
        "from sklearn.metrics import make_scorer\n",
        "from sklearn.dummy import DummyClassifier\n",
        "from sklearn.discriminant_analysis import LinearDiscriminantAnalysis\n",
        "from sklearn.discriminant_analysis import QuadraticDiscriminantAnalysis\n",
        "from sklearn.naive_bayes import GaussianNB\n",
        "from sklearn.naive_bayes import MultinomialNB\n",
        "from sklearn.gaussian_process import GaussianProcessClassifier\n",
        "from sklearn.pipeline import Pipeline\n",
        "from sklearn.preprocessing import MinMaxScaler\n",
        "from sklearn.preprocessing import PowerTransformer"
      ],
      "metadata": {
        "id": "Lok_hHGrN238"
      },
      "execution_count": null,
      "outputs": []
    },
    {
      "cell_type": "code",
      "source": [
        "columns = ['age', 'year', 'nodes', 'class']"
      ],
      "metadata": {
        "id": "7MAyCf1ZsCkZ"
      },
      "execution_count": null,
      "outputs": []
    },
    {
      "cell_type": "code",
      "source": [
        "from os import name\n",
        "da1 = pd.read_csv('/content/haberman.csv', header = None, names = columns)"
      ],
      "metadata": {
        "id": "bMT-moRPrxbD"
      },
      "execution_count": null,
      "outputs": []
    },
    {
      "cell_type": "code",
      "source": [
        "print(da1.head())"
      ],
      "metadata": {
        "id": "1tPT78yCr9J_",
        "colab": {
          "base_uri": "https://localhost:8080/"
        },
        "outputId": "cb5478b9-63df-4c83-e00f-e63509da5565"
      },
      "execution_count": null,
      "outputs": [
        {
          "output_type": "stream",
          "name": "stdout",
          "text": [
            "   age  year  nodes  class\n",
            "0   30    64      1      1\n",
            "1   30    62      3      1\n",
            "2   30    65      0      1\n",
            "3   31    59      2      1\n",
            "4   31    65      4      1\n"
          ]
        }
      ]
    },
    {
      "cell_type": "code",
      "source": [
        "print(da1.describe())"
      ],
      "metadata": {
        "id": "_LQGnydmsS4K",
        "colab": {
          "base_uri": "https://localhost:8080/"
        },
        "outputId": "88648c24-5ac5-44d9-e8b7-2c293f2e68c6"
      },
      "execution_count": null,
      "outputs": [
        {
          "output_type": "stream",
          "name": "stdout",
          "text": [
            "              age        year       nodes       class\n",
            "count  306.000000  306.000000  306.000000  306.000000\n",
            "mean    52.457516   62.852941    4.026144    1.264706\n",
            "std     10.803452    3.249405    7.189654    0.441899\n",
            "min     30.000000   58.000000    0.000000    1.000000\n",
            "25%     44.000000   60.000000    0.000000    1.000000\n",
            "50%     52.000000   63.000000    1.000000    1.000000\n",
            "75%     60.750000   65.750000    4.000000    2.000000\n",
            "max     83.000000   69.000000   52.000000    2.000000\n"
          ]
        }
      ]
    },
    {
      "cell_type": "code",
      "source": [
        "## hist plot\n",
        "da1.hist()\n",
        "plt.show()"
      ],
      "metadata": {
        "id": "GHxLTMiiswqU",
        "colab": {
          "base_uri": "https://localhost:8080/",
          "height": 452
        },
        "outputId": "569cbe45-c4c3-4e29-a974-1ec83ae2d58e"
      },
      "execution_count": null,
      "outputs": [
        {
          "output_type": "display_data",
          "data": {
            "text/plain": [
              "<Figure size 640x480 with 4 Axes>"
            ],
            "image/png": "[encoded data removed]"
          },
          "metadata": {}
        }
      ]
    },
    {
      "cell_type": "code",
      "source": [
        "##check class dist\n",
        "#Method A\n",
        "\n",
        "tar = da1['class'].value_counts()"
      ],
      "metadata": {
        "id": "ynsd1xcltyhS"
      },
      "execution_count": null,
      "outputs": []
    },
    {
      "cell_type": "code",
      "source": [
        "print(tar)"
      ],
      "metadata": {
        "id": "4oyf0N2BvA4P",
        "colab": {
          "base_uri": "https://localhost:8080/"
        },
        "outputId": "6b44380b-b5fa-486d-9b4a-154b1306a056"
      },
      "execution_count": null,
      "outputs": [
        {
          "output_type": "stream",
          "name": "stdout",
          "text": [
            "1    225\n",
            "2     81\n",
            "Name: class, dtype: int64\n"
          ]
        }
      ]
    },
    {
      "cell_type": "code",
      "source": [
        "#Method B\n",
        "tar1 = da1['class'].values\n",
        "counter = Counter(tar1)\n",
        "\n",
        "for k, v in counter.items():\n",
        "  perc = v/len(tar1) * 100\n",
        "  print(k, v, perc)"
      ],
      "metadata": {
        "id": "eBkG0ceOvCSl",
        "colab": {
          "base_uri": "https://localhost:8080/"
        },
        "outputId": "6b777605-c2f3-4929-f909-b212bfcb8b36"
      },
      "execution_count": null,
      "outputs": [
        {
          "output_type": "stream",
          "name": "stdout",
          "text": [
            "1 225 73.52941176470588\n",
            "2 81 26.47058823529412\n"
          ]
        }
      ]
    },
    {
      "cell_type": "code",
      "source": [
        "##class '1' and '2' change to 0 and 1\n",
        "\n",
        "lab_e = LabelEncoder()\n",
        "\n",
        "da1['new_c1'] = lab_e.fit_transform(da1['class'])\n",
        "\n",
        "print(da1.head())"
      ],
      "metadata": {
        "id": "ENcO-zte4TRi",
        "colab": {
          "base_uri": "https://localhost:8080/"
        },
        "outputId": "0d684424-7e0e-43b1-ded3-c482e1159bb9"
      },
      "execution_count": null,
      "outputs": [
        {
          "output_type": "stream",
          "name": "stdout",
          "text": [
            "   age  year  nodes  class  new_c1\n",
            "0   30    64      1      1       0\n",
            "1   30    62      3      1       0\n",
            "2   30    65      0      1       0\n",
            "3   31    59      2      1       0\n",
            "4   31    65      4      1       0\n"
          ]
        }
      ]
    },
    {
      "cell_type": "code",
      "source": [
        "X = da1.drop('new_c1', axis = 1)\n",
        "y = da1['new_c1']"
      ],
      "metadata": {
        "id": "UEg73Yex4tVB"
      },
      "execution_count": null,
      "outputs": []
    },
    {
      "cell_type": "code",
      "source": [
        "##def mod"
      ],
      "metadata": {
        "id": "XghVHs2WBDn-"
      },
      "execution_count": null,
      "outputs": []
    },
    {
      "cell_type": "code",
      "source": [
        "mod = make_pipeline(StandardScaler(), LogisticRegression())"
      ],
      "metadata": {
        "id": "imS05k0gBbau"
      },
      "execution_count": null,
      "outputs": []
    },
    {
      "cell_type": "code",
      "source": [
        "#set RepeatedStratKF"
      ],
      "metadata": {
        "id": "PZQpoVw9Bv3N"
      },
      "execution_count": null,
      "outputs": []
    },
    {
      "cell_type": "code",
      "source": [
        "cv = RepeatedStratifiedKFold(n_repeats = 3, n_splits = 10, random_state = 42)"
      ],
      "metadata": {
        "id": "c_Wipt-OB7gX"
      },
      "execution_count": null,
      "outputs": []
    },
    {
      "cell_type": "code",
      "source": [
        "# y_prob1 = cross_val_predict(mod, X, y, cv = cv, method = 'predict_proba')[:, 1]"
      ],
      "metadata": {
        "id": "DMASLU73Cyc_"
      },
      "execution_count": null,
      "outputs": []
    },
    {
      "cell_type": "code",
      "source": [
        "## Full Model\n",
        "\n",
        "##load_data\n",
        "def load_data(path):\n",
        "  da1 = pd.read_csv(path, header = None)\n",
        "  da1 = da1.values\n",
        "  X, y = da1[:, : -1], da1[:, -1]\n",
        "  y = LabelEncoder().fit_transform(y)\n",
        "  return X, y\n",
        "\n",
        "def brier_skill_score(y_true, y_prob):\n",
        "  ref_probs = [0.26741 for _ in range(len(y_true))]\n",
        "  bs_ref = brier_score_loss(y_true, ref_probs)\n",
        "\n",
        "  bs1 = brier_score_loss(y_true, y_prob)\n",
        "\n",
        "  return 1.0 - (bs1/bs_ref)\n",
        "\n",
        "def eval_mod(X, y, mod):\n",
        "  cv = RepeatedStratifiedKFold(n_splits = 10, n_repeats = 3, random_state = 42)\n",
        "\n",
        "  metric = make_scorer(brier_skill_score, needs_proba = True)\n",
        "\n",
        "  score1 = cross_val_score(mod, X, y, cv = cv, scoring = metric, n_jobs = -1)\n",
        "\n",
        "  return score1\n",
        "\n",
        "path = '/content/haberman.csv'\n",
        "\n",
        "X, y = load_data(path)\n",
        "\n",
        "print(X.shape, y.shape, Counter(y))\n",
        "\n",
        "mod = DummyClassifier(strategy = 'prior')\n",
        "\n",
        "score1 = eval_mod(X, y, mod)\n",
        "\n",
        "print(np.mean(score1), np.std(score1))"
      ],
      "metadata": {
        "id": "dHEvtq9zTZHr",
        "colab": {
          "base_uri": "https://localhost:8080/"
        },
        "outputId": "5275e622-d8f2-459b-9f15-94db850b2dd7"
      },
      "execution_count": null,
      "outputs": [
        {
          "output_type": "stream",
          "name": "stdout",
          "text": [
            "(306, 3) (306,) Counter({0: 225, 1: 81})\n",
            "-6.230692116788727e-05 0.00045236725279956905\n"
          ]
        }
      ]
    },
    {
      "cell_type": "code",
      "source": [
        "## Full Model\n",
        "\n",
        "##load_data\n",
        "def load_data(path):\n",
        "  da1 = pd.read_csv(path, header = None)\n",
        "  da1 = da1.values\n",
        "  X, y = da1[:, : -1], da1[:, -1]\n",
        "  y = LabelEncoder().fit_transform(y)\n",
        "  return X, y\n",
        "\n",
        "def brier_skill_score(y_true, y_prob):\n",
        "  ref_probs = [0.26741 for _ in range(len(y_true))]\n",
        "  bs_ref = brier_score_loss(y_true, ref_probs)\n",
        "\n",
        "  bs1 = brier_score_loss(y_true, y_prob)\n",
        "\n",
        "  return 1.0 - (bs1/bs_ref)\n",
        "\n",
        "def eval_mod(X, y, mod):\n",
        "  cv = RepeatedStratifiedKFold(n_splits = 10, n_repeats = 3, random_state = 42)\n",
        "\n",
        "  metric = make_scorer(brier_skill_score, needs_proba = True)\n",
        "\n",
        "  score1 = cross_val_score(mod, X, y, cv = cv, scoring = metric, n_jobs = -1)\n",
        "\n",
        "  return score1\n",
        "\n",
        "path = '/content/haberman.csv'\n",
        "\n",
        "X, y = load_data(path)\n",
        "\n",
        "print(X.shape, y.shape, Counter(y))\n",
        "\n",
        "mod = DummyClassifier(strategy = 'prior')\n",
        "\n",
        "score1 = eval_mod(X, y, mod)\n",
        "\n",
        "print(np.mean(score1), np.std(score1))"
      ],
      "metadata": {
        "id": "pBfMabvlTwPD",
        "colab": {
          "base_uri": "https://localhost:8080/"
        },
        "outputId": "0f0975ea-65d8-43ff-924f-f6b5f5855cf3"
      },
      "execution_count": null,
      "outputs": [
        {
          "output_type": "stream",
          "name": "stdout",
          "text": [
            "(306, 3) (306,) Counter({0: 225, 1: 81})\n",
            "-6.230692116788727e-05 0.00045236725279956905\n"
          ]
        }
      ]
    },
    {
      "cell_type": "code",
      "source": [
        "##Eval Prob\n",
        "\n",
        "## Full Model\n",
        "\n",
        "##load_data\n",
        "def load_data(path):\n",
        "  da1 = pd.read_csv(path, header = None)\n",
        "  da1 = da1.values\n",
        "  X, y = da1[:, : -1], da1[:, -1]\n",
        "  y = LabelEncoder().fit_transform(y)\n",
        "  return X, y\n",
        "\n",
        "def brier_skill_score(y_true, y_prob):\n",
        "  ref_probs = [0.26741 for _ in range(len(y_true))]\n",
        "  bs_ref = brier_score_loss(y_true, ref_probs)\n",
        "\n",
        "  bs1 = brier_score_loss(y_true, y_prob)\n",
        "\n",
        "  return 1.0 - (bs1/bs_ref)\n",
        "\n",
        "def eval_mod(X, y, mod):\n",
        "  cv = RepeatedStratifiedKFold(n_splits = 10, n_repeats = 3, random_state = 42)\n",
        "\n",
        "  metric = make_scorer(brier_skill_score, needs_proba = True)\n",
        "\n",
        "  score1 = cross_val_score(mod, X, y, cv = cv, scoring = metric, n_jobs = -1)\n",
        "\n",
        "  return score1\n",
        "\n",
        "def get_mod():\n",
        "  model, names = list(), list()\n",
        "\n",
        "  model.append(LogisticRegression(solver ='lbfgs'))\n",
        "  names.append('LR')\n",
        "\n",
        "  model.append(LinearDiscriminantAnalysis())\n",
        "  names.append('LDA')\n",
        "\n",
        "  model.append(QuadraticDiscriminantAnalysis())\n",
        "  names.append('QDA')\n",
        "\n",
        "  model.append(GaussianNB())\n",
        "  names.append('GNB')\n",
        "\n",
        "  model.append(MultinomialNB())\n",
        "  names.append('MNB')\n",
        "\n",
        "  model.append(GaussianProcessClassifier())\n",
        "  names.append('GPC')\n",
        "  return model, names\n",
        "\n",
        "path = '/content/haberman.csv'\n",
        "\n",
        "X, y = load_data(path)\n",
        "\n",
        "print(X.shape, y.shape, Counter(y))\n",
        "\n",
        "model, names = get_mod()\n",
        "res = list()\n",
        "\n",
        "for i in range(len(model)):\n",
        "  score1 = eval_mod(X, y, model[i])\n",
        "  res.append(score1)\n",
        "\n",
        "  print(names[i], np.mean(score1), np.std(score1))\n",
        "\n",
        "##create a boxplot\n",
        "\n",
        "plt.boxplot(res, labels = names, showmeans = True)\n",
        "plt.show()"
      ],
      "metadata": {
        "id": "f4buJQThivh4",
        "colab": {
          "base_uri": "https://localhost:8080/",
          "height": 555
        },
        "outputId": "1265138d-09b8-43a5-fb4f-76d0c9720260"
      },
      "execution_count": null,
      "outputs": [
        {
          "output_type": "stream",
          "name": "stdout",
          "text": [
            "(306, 3) (306,) Counter({0: 225, 1: 81})\n",
            "LR 0.07069134532162577 0.12328361994313923\n",
            "LDA 0.07227861883334466 0.13702595905203915\n",
            "QDA 0.031887839584699026 0.20402458258824255\n",
            "GNB 0.01462814594707476 0.19779672602522547\n",
            "MNB -0.21319682923872982 0.3922689080265039\n",
            "GPC -0.14317870742552916 0.042651679997179885\n"
          ]
        },
        {
          "output_type": "display_data",
          "data": {
            "text/plain": [
              "<Figure size 640x480 with 1 Axes>"
            ],
            "image/png": "[encoded data removed]"
          },
          "metadata": {}
        }
      ]
    },
    {
      "cell_type": "code",
      "source": [
        "# ##Eval Prob\n",
        "\n",
        "# ## Full Model\n",
        "\n",
        "# ##load_data\n",
        "# def load_data(path):\n",
        "#   da1 = pd.read_csv(path, header = None)\n",
        "#   da1 = da1.values\n",
        "#   X, y = da1[:, : -1], da1[:, -1]\n",
        "#   y = LabelEncoder().fit_transform(y)\n",
        "#   return X, y\n",
        "\n",
        "# def brier_skill_score(y_true, y_prob):\n",
        "#   ref_probs = [0.26741 for _ in range(len(y_true))]\n",
        "#   bs_ref = brier_score_loss(y_true, ref_probs)\n",
        "\n",
        "#   bs1 = brier_score_loss(y_true, y_prob)\n",
        "\n",
        "#   return 1.0 - (bs1/bs_ref)\n",
        "\n",
        "# def eval_mod(X, y, mod):\n",
        "#   cv = RepeatedStratifiedKFold(n_splits = 10, n_repeats = 3, random_state = 42)\n",
        "\n",
        "#   metric = make_scorer(brier_skill_score, needs_proba = True)\n",
        "\n",
        "#   score1 = cross_val_score(mod, X, y, cv = cv, scoring = metric, n_jobs = -1)\n",
        "\n",
        "#   return score1\n",
        "\n",
        "# def get_mod():\n",
        "#   model, names = list(), list()\n",
        "\n",
        "#   model.append(LogisticRegression(solver ='lbfgs'))\n",
        "#   names.append('LR')\n",
        "\n",
        "#   model.append(LinearDiscriminantAnalysis())\n",
        "#   names.append('LDA')\n",
        "\n",
        "#   model.append(QuadraticDiscriminantAnalysis())\n",
        "#   names.append('QDA')\n",
        "\n",
        "#   model.append(GaussianNB())\n",
        "#   names.append('GNB')\n",
        "\n",
        "#   model.append(MultinomialNB())\n",
        "#   names.append('MNB')\n",
        "#   return model, names\n",
        "\n",
        "# path = '/content/haberman.csv'\n",
        "\n",
        "# X, y = load_data(path)\n",
        "\n",
        "# print(X.shape, y.shape, Counter(y))\n",
        "\n",
        "# model, names = get_mod()\n",
        "# res = list()\n",
        "\n",
        "# for i in range(len(model)):\n",
        "#   pipeline = Pipeline(steps=[('t', StandardScaler()),('m',model[i])])\n",
        "#   # evaluate the model and store results\n",
        "#   scores = eval_mod(X, y, pipeline)\n",
        "#   res.append(scores)\n",
        "#   # summarize and store\n",
        "\n",
        "#   print('>%s %.3f (%.3f)' % (names[i], np.mean(scores), np.std(scores)))\n",
        "\n",
        "# ##create a boxplot\n",
        "\n",
        "# plt.boxplot(res, labels = names, showmeans = True)\n",
        "# plt.show()"
      ],
      "metadata": {
        "id": "myK2pGpGtiSN"
      },
      "execution_count": null,
      "outputs": []
    },
    {
      "cell_type": "code",
      "source": [
        "from numpy import mean, std\n",
        "\n",
        "# load the dataset\n",
        "def load_dataset(full_path):\n",
        "  # load the dataset as a numpy array\n",
        "  data = pd.read_csv(full_path, header=None)\n",
        "  # retrieve numpy array\n",
        "  data = data.values\n",
        "  # split into input and output elements\n",
        "  X, y = data[:, :-1], data[:, -1]\n",
        "  # label encode the target variable to have the classes 0 and 1\n",
        "  y = LabelEncoder().fit_transform(y)\n",
        "  return X, y\n",
        "# calculate brier skill score (BSS)\n",
        "def brier_skill_score(y_true, y_prob):\n",
        "  # calculate reference brier score\n",
        "  ref_probs = [0.26471 for _ in range(len(y_true))]\n",
        "  bs_ref = brier_score_loss(y_true, ref_probs)\n",
        "  # calculate model brier score\n",
        "  bs_model = brier_score_loss(y_true, y_prob)\n",
        "  # calculate skill score\n",
        "  return 1.0 - (bs_model / bs_ref)\n",
        "# evaluate a model\n",
        "def evaluate_model(X, y, model):\n",
        "  # define evaluation procedure\n",
        "  cv = RepeatedStratifiedKFold(n_splits=10, n_repeats=3, random_state=1)\n",
        "  # define the model evaluation metric\n",
        "  metric = make_scorer(brier_skill_score, needs_proba=True)\n",
        "  # evaluate model\n",
        "  scores = cross_val_score(model, X, y, scoring=metric, cv=cv, n_jobs=-1)\n",
        "  return scores\n",
        "\n",
        "def get_models():\n",
        "  models, names = list(), list()\n",
        "  #LR\n",
        "  models.append(LogisticRegression(solver='lbfgs'))\n",
        "  names.append('LR')\n",
        "  #LDA\n",
        "  models.append(LinearDiscriminantAnalysis())\n",
        "  names.append('LDA')\n",
        "# QDA\n",
        "  models.append(QuadraticDiscriminantAnalysis())\n",
        "  names.append('QDA')\n",
        "# GNB\n",
        "  models.append(GaussianNB())\n",
        "  names.append('GNB')\n",
        "# GPC\n",
        "  models.append(GaussianProcessClassifier())\n",
        "  names.append('GPC')\n",
        "  return models, names\n",
        "# define the location of the dataset\n",
        "full_path = '/content/haberman.csv'\n",
        "# load the dataset\n",
        "X, y = load_dataset(full_path) # define models\n",
        "models, names = get_models()\n",
        "results = list()\n",
        "# evaluate each model\n",
        "for i in range(len(models)):\n",
        "  # create a pipeline\n",
        "  pipeline = Pipeline(steps=[('t', StandardScaler()),('m',models[i])]) # evaluate the model and store results\n",
        "  scores = evaluate_model(X, y, pipeline)\n",
        "  results.append(scores)\n",
        "  # summarize and store\n",
        "print('>%s %.3f (%.3f)' % (names[i], mean(scores), std(scores))) # plot the results\n",
        "plt.boxplot(results, labels=names, showmeans=True)\n",
        "plt.show()"
      ],
      "metadata": {
        "id": "MxvS7Tscu5-b",
        "colab": {
          "base_uri": "https://localhost:8080/",
          "height": 448
        },
        "outputId": "f825f1c2-c81c-4ff1-c891-2a559ff0e327"
      },
      "execution_count": null,
      "outputs": [
        {
          "output_type": "stream",
          "name": "stdout",
          "text": [
            ">GPC 0.097 (0.133)\n"
          ]
        },
        {
          "output_type": "display_data",
          "data": {
            "text/plain": [
              "<Figure size 640x480 with 1 Axes>"
            ],
            "image/png": "[encoded data removed]"
          },
          "metadata": {}
        }
      ]
    },
    {
      "cell_type": "code",
      "source": [
        "## Using Power Transf\n",
        "\n",
        "from numpy import mean, std\n",
        "\n",
        "# load the dataset\n",
        "def load_dataset(full_path):\n",
        "  # load the dataset as a numpy array\n",
        "  data = pd.read_csv(full_path, header=None)\n",
        "  # retrieve numpy array\n",
        "  data = data.values\n",
        "  # split into input and output elements\n",
        "  X, y = data[:, :-1], data[:, -1]\n",
        "  # label encode the target variable to have the classes 0 and 1\n",
        "  y = LabelEncoder().fit_transform(y)\n",
        "  return X, y\n",
        "# calculate brier skill score (BSS)\n",
        "def brier_skill_score(y_true, y_prob):\n",
        "  # calculate reference brier score\n",
        "  ref_probs = [0.26471 for _ in range(len(y_true))]\n",
        "  bs_ref = brier_score_loss(y_true, ref_probs)\n",
        "  # calculate model brier score\n",
        "  bs_model = brier_score_loss(y_true, y_prob)\n",
        "  # calculate skill score\n",
        "  return 1.0 - (bs_model / bs_ref)\n",
        "# evaluate a model\n",
        "def evaluate_model(X, y, model):\n",
        "  # define evaluation procedure\n",
        "  cv = RepeatedStratifiedKFold(n_splits=10, n_repeats=3, random_state=1)\n",
        "  # define the model evaluation metric\n",
        "  metric = make_scorer(brier_skill_score, needs_proba=True)\n",
        "  # evaluate model\n",
        "  scores = cross_val_score(model, X, y, scoring=metric, cv=cv, n_jobs=-1)\n",
        "  return scores\n",
        "\n",
        "def get_models():\n",
        "  models, names = list(), list()\n",
        "  #LR\n",
        "  models.append(LogisticRegression(solver='lbfgs'))\n",
        "  names.append('LR')\n",
        "  #LDA\n",
        "  models.append(LinearDiscriminantAnalysis())\n",
        "  names.append('LDA')\n",
        "# GPC\n",
        "  models.append(GaussianProcessClassifier())\n",
        "  names.append('GPC')\n",
        "  return models, names\n",
        "# define the location of the dataset\n",
        "full_path = '/content/haberman.csv'\n",
        "# load the dataset\n",
        "X, y = load_dataset(full_path) # define models\n",
        "models, names = get_models()\n",
        "results = list()\n",
        "# evaluate each model\n",
        "for i in range(len(models)):\n",
        "  # create a pipeline\n",
        "  pipeline = Pipeline(steps=[('t1', MinMaxScaler()), ('t2', PowerTransformer()), ('m', models[i])]) # evaluate the model and store results\n",
        "  scores = evaluate_model(X, y, pipeline)\n",
        "  results.append(scores)\n",
        "  # summarize and store\n",
        "print('>%s %.3f (%.3f)' % (names[i], mean(scores), std(scores))) # plot the results\n",
        "plt.boxplot(results, labels=names, showmeans=True)\n",
        "plt.show()"
      ],
      "metadata": {
        "id": "1gAVS0XZvNWc",
        "colab": {
          "base_uri": "https://localhost:8080/",
          "height": 448
        },
        "outputId": "6f5da17b-045f-4ada-d7a8-524583b3cf89"
      },
      "execution_count": null,
      "outputs": [
        {
          "output_type": "stream",
          "name": "stdout",
          "text": [
            ">GPC 0.100 (0.130)\n"
          ]
        },
        {
          "output_type": "display_data",
          "data": {
            "text/plain": [
              "<Figure size 640x480 with 1 Axes>"
            ],
            "image/png": "[encoded data removed]"
          },
          "metadata": {}
        }
      ]
    },
    {
      "cell_type": "code",
      "source": [],
      "metadata": {
        "id": "w43p9aoZxv7r"
      },
      "execution_count": null,
      "outputs": []
    }
  ]
}